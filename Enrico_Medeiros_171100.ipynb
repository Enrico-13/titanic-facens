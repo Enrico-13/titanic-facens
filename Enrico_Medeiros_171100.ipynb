{
  "cells": [
    {
      "cell_type": "markdown",
      "source": [
        "# **Trabalho Final**\n",
        "### Algoritmos e Programação com Linguagem Python\n",
        "---\n",
        "\n",
        "**Orientações Gerais:**\n",
        "\n",
        "* Esta é o trabalho final prático onde serão trabalhados conceitos \n",
        "apresentados e exercitados em sala de aula.\n",
        "\n",
        "* Aspéctos como clareza e organização do código, comentários, raciocínio lógico, coerência no nome de variáveis, utilização das estruturas mais adequadas para a solução dos problemas e o funcionamento adequado serão analisados e irão compor o valor da nota final.\n",
        "\n",
        "* Procure entender exatamente o que se pede antes de iniciar a codificação. Quando se sabe o que é necessário fazer, a codificação fica mais fácil, mais eficiente e mais divertida ;-).\n",
        "\n",
        "* Faça o upload do notebook completo nomeado da seguinte forma: *nome_sobrenome_RA.ipynb*. \n",
        "\n",
        "* No caso de grupos, informar ao professor os membros de cada grupo e cada um deverá importar o arquivo no Canvas individualmente.\n",
        "\n",
        "* Arquivos com nomes incorretos serão desconsiderados!\n",
        "\n",
        "* Não deixem dúvidas para trás! Acessem os grupos combinados ou entrem em contato com o professor. \n",
        "\n",
        "✌ Sucesso o/\n",
        "\n",
        "\n",
        "\n",
        "\n"
      ],
      "metadata": {
        "id": "LvTRZZisW_3u"
      }
    },
    {
      "cell_type": "markdown",
      "metadata": {
        "id": "xEBhSxBGTgS0"
      },
      "source": [
        "# RMS Titanic\n",
        "\n",
        "O RMS Titanic foi um navio de passageiros britânico operado pela White Star Line e construído pelos estaleiros da Harland and Wolff em Belfast. Foi a segunda embarcação da Classe Olympic de transatlânticos depois do RMS Olympic e seguido pelo HMHS Britannic. Projetado pelos engenheiros navais Alexander Carlisle e Thomas Andrews, sua construção começou em março de 1909 e ele foi lançado ao mar em maio de 1911. O Titanic foi pensado para ser o navio mais luxuoso e mais seguro de sua época, gerando lendas que era supostamente \"inafundável\".\n",
        "\n",
        "A embarcação partiu em sua viagem inaugural de Southampton para Nova Iorque em 10 de abril de 1912, no caminho passando em Cherbourg-Octeville na França e por Queenstown na Irlanda. Ele colidiu com um iceberg às 23h40min do dia 14 de abril e afundou na madrugada do dia seguinte matando mais de 1500 pessoas, sendo um dos maiores desastres marítimos em tempos de paz de toda a história. Seu naufrágio destacou vários pontos fracos de seu projeto, deficiências nos procedimentos de evacuação de emergência e falhas nas regulamentações marítimas da época. Comissões de inquérito foram instauradas nos Estados Unidos e no Reino Unido, levando a mudanças nas leis internacionais de navegação que permanecem em vigor mais de um século depois.\n",
        "\n",
        "Os destroços do Titanic foram procurados por décadas até serem encontrados em 1985 por uma equipe liderada por Robert Ballard. Ele se encontra a 3843 m de profundidade e a 650 km ao sudeste de Terra Nova no Canadá. Sua história e naufrágio permaneceram no imaginário popular durante décadas, levando a produção de vários livros e filmes a seu respeito, mais notavelmente o filme Titanic de 1997. Até hoje o Titanic permanece como um dos navios mais famosos da história, com seus destroços atraindo várias expedições de exploração ao longo dos anos.\n",
        "\n",
        "*Fonte:* [WikiPedia](https://pt.wikipedia.org/wiki/RMS_Titanic)\n",
        "\n",
        "--------"
      ]
    },
    {
      "cell_type": "markdown",
      "metadata": {
        "id": "L1MhpnxMTgS2"
      },
      "source": [
        "A equipe da [Udacity](https://udacity.com) disponibilizou informações sobre uma parte dos passageiros à bordo do RMS Titanic no dia daquela tragédia. Esse _dataset_ que contém informações reais vem sendo utilizado em diversos estudos de caso, além de servir de base para aprendizado de Ciência de Dados, Estatística e Machine Learning.\n",
        "\n",
        "O arquivo **titanic_data.csv** contém informações reais sobre os passageiros organizadas da seguinte forma:\n",
        "\n",
        "- Survived (Sobreviveu): 0 = Não, 1 = Sim\n",
        "- Pclass (Classe): Classe de ingresso 1 = 1º, 2 = 2º, 3 = 3º\n",
        "- Sex (Sexo): Sexo do passageiro\n",
        "- Age (Idade): Idade em anos\n",
        "- Sibsp: Quantidade de irmãos / cônjuges a bordo do Titanic\n",
        "- Parch: Quantidade de pais / crianças a bordo do Titanic\n",
        "- Ticket (Bilhete): Número do bilhete de embarque\n",
        "- Fare (Tarifa): Tarifa paga pelo Passageiro\n",
        "- Cabin (Cabine): Número de cabine\n",
        "- Embarked (Embarque): Porto de Embarque (C = Cherbourg, Q = Queenstown, S = Southampton)\n",
        "\n",
        "O objetivo deste estudo é obter algumas informações estatísticas sobre a tragédia e realizar alguns _insights_ a respeito dos tripulantes e das circunstâncias do acidente.\n",
        "\n",
        "Efetue a carga do arquivo através da biblioteca _Pandas_ e a partir do _DataFrame_ gerado, efetue as operações necessárias para responder as questões.\n"
      ]
    },
    {
      "cell_type": "markdown",
      "metadata": {
        "id": "O2wsN6iSTgS2"
      },
      "source": [
        "## Importando o DataSet"
      ]
    },
    {
      "cell_type": "markdown",
      "metadata": {
        "id": "B4UlEZmATgS3"
      },
      "source": [
        "1 - Efetuar a leitura do dataset através do Pandas, gerando um DataFrame de nome tit, levando-se em consideração que o arquivo encontra-se na mesma pasta do notebook."
      ]
    },
    {
      "cell_type": "code",
      "source": [
        "# imports\n",
        "import pandas as pd\n",
        "import numpy as np\n",
        "import matplotlib.pyplot as plt"
      ],
      "metadata": {
        "id": "EM8YLYAFSe1y"
      },
      "execution_count": null,
      "outputs": []
    },
    {
      "cell_type": "code",
      "source": [
        "# ler csv\n",
        "tit = pd.read_csv('/content/titanic_data.csv')"
      ],
      "metadata": {
        "id": "WI7aXfnzTjHQ"
      },
      "execution_count": null,
      "outputs": []
    },
    {
      "cell_type": "code",
      "source": [
        "tit"
      ],
      "metadata": {
        "id": "n85tpjU034cE"
      },
      "execution_count": null,
      "outputs": []
    },
    {
      "cell_type": "markdown",
      "metadata": {
        "id": "2iQYh_DATgS4"
      },
      "source": [
        "## Conhecendo o DataSet"
      ]
    },
    {
      "cell_type": "markdown",
      "metadata": {
        "id": "rypSFW-qTgS4"
      },
      "source": [
        "2 - Quantas linhas e colunas tem o dataset? Quais os tipos das colunas?"
      ]
    },
    {
      "cell_type": "code",
      "source": [
        "# Gerar informações sobre número de linhas e colunas, e tipos de dados\n",
        "tit.info()"
      ],
      "metadata": {
        "id": "IyrMKzaQTkkx"
      },
      "execution_count": null,
      "outputs": []
    },
    {
      "cell_type": "markdown",
      "metadata": {
        "id": "L40fXuSRTgS5"
      },
      "source": [
        "3 - Mostre os dados dos dez primeiros e 8 últimos registros do dataset."
      ]
    },
    {
      "cell_type": "code",
      "source": [
        "# Mostrar 10 primeiros registros\n",
        "tit.head(10)"
      ],
      "metadata": {
        "id": "QEFq1_V8TmAZ"
      },
      "execution_count": null,
      "outputs": []
    },
    {
      "cell_type": "code",
      "source": [
        "# Mostrar 8 últimos registros\n",
        "tit.tail(8)"
      ],
      "metadata": {
        "id": "0Bx3w0Jr4JZi"
      },
      "execution_count": null,
      "outputs": []
    },
    {
      "cell_type": "markdown",
      "metadata": {
        "id": "cZyn3_NOTgS6"
      },
      "source": [
        "4 - Cálculos envolvendo colunas numéricas com dados faltantes podem sofrer impacto. É possível afirmar se há dados faltantes no dataset? Caso positivo, quais e quantos seriam esses dados? Preencha os dados faltantes de forma que não influenciem em operações futuras."
      ]
    },
    {
      "cell_type": "code",
      "source": [
        "# Checagem se existem valores vazios\n",
        "print(tit.isnull().values.any())\n",
        "print()\n",
        "\n",
        "# Checagem de valores vazios por coluna\n",
        "print(tit.isnull().any())\n",
        "print()\n",
        "\n",
        "# Contando valores vazios por cada coluna\n",
        "print(f\"Coluna Age: {len(tit.loc[tit['Age'].isnull()])}\")\n",
        "print()\n",
        "print(f\"Coluna Cabin: {len(tit.loc[tit['Cabin'].isnull()])}\")\n",
        "print()\n",
        "print(f\"Coluna Embarked: {len(tit.loc[tit['Embarked'].isnull()])}\")\n",
        "\n",
        "# Enchendo valores vazios com valor NaN do numpy\n",
        "tit.fillna(np.NaN, inplace=True)\n",
        "tit.head()\n"
      ],
      "metadata": {
        "id": "Mj5d7y5ZTnbi"
      },
      "execution_count": null,
      "outputs": []
    },
    {
      "cell_type": "markdown",
      "metadata": {
        "id": "NkmmE-G1TgS6"
      },
      "source": [
        "## Adequando o DataSet"
      ]
    },
    {
      "cell_type": "markdown",
      "metadata": {
        "id": "sHIXSM-3TgS6"
      },
      "source": [
        "5 - Uma vez que algumas colunas não serão utilizadas, eventualmente é melhor excluí-las para que não interfiram na análise. Assim, exclua do dataset as colunas Sibsp, Parch e Ticket."
      ]
    },
    {
      "cell_type": "code",
      "source": [
        "# Deletar colunas indesejadas\n",
        "tit = tit.drop(['SibSp','Parch','Ticket'], axis=1, errors='ignore')\n",
        "tit.head()"
      ],
      "metadata": {
        "id": "TovKKLO8TouW"
      },
      "execution_count": null,
      "outputs": []
    },
    {
      "cell_type": "markdown",
      "metadata": {
        "id": "Ywm6ZYE_TgS6"
      },
      "source": [
        "6 - Renomear as colunas restantes para a lingua portuguesa, utilizando os seguintes nomes de colunas: IdPassageiro, Sobreviveu, Classe, Nome, Sexo, Idade, Tarifa, Cabine e Embarque."
      ]
    },
    {
      "cell_type": "code",
      "source": [
        "# Renomear nome das colunas\n",
        "tit.columns = ['IdPassageiro', 'Sobreviveu', 'Classe', 'Nome', 'Sexo', 'Idade', 'Tarifa', 'Cabine', 'Embarque']\n",
        "tit.head()"
      ],
      "metadata": {
        "id": "WwFGynIHTp0r"
      },
      "execution_count": null,
      "outputs": []
    },
    {
      "cell_type": "markdown",
      "metadata": {
        "id": "om9yLJRSTgS7"
      },
      "source": [
        "7 - Alterar o conteudo da coluna Sobreviveu para:\n",
        "- 0 => Não\n",
        "- 1 => Sim"
      ]
    },
    {
      "cell_type": "code",
      "source": [
        "# Mudar valores de 0 e 1 para 'Sim' e 'Nâo', iterando pelo dataframe\n",
        "for idx, val in tit.iterrows():\n",
        "    if val['Sobreviveu'] == 0:\n",
        "        tit.iloc[idx, 1] = 'Não'\n",
        "    elif val['Sobreviveu'] == 1:\n",
        "        tit.iloc[idx, 1] = 'Sim'"
      ],
      "metadata": {
        "id": "ffDQ85AJTrxZ"
      },
      "execution_count": null,
      "outputs": []
    },
    {
      "cell_type": "markdown",
      "metadata": {
        "id": "CmoyJaKCTgS7"
      },
      "source": [
        "8 - Alterar o conteudo da coluna Sexo para:\n",
        "- female => Mulher\n",
        "- male   => Homem"
      ]
    },
    {
      "cell_type": "code",
      "source": [
        "# Iterar pelo dataframe, alterando os valores da coluna 'Sexo'\n",
        "for idx, val in tit.iterrows():\n",
        "    if val['Sexo'] == 'female':\n",
        "        tit.iloc[idx, 4] = 'Mulher'\n",
        "    elif val['Sexo'] == 'male':\n",
        "        tit.iloc[idx, 4] = 'Homem'"
      ],
      "metadata": {
        "id": "0HCSucRsTtaF"
      },
      "execution_count": null,
      "outputs": []
    },
    {
      "cell_type": "markdown",
      "metadata": {
        "id": "xns3YqQcTgS7"
      },
      "source": [
        "## Alguns números"
      ]
    },
    {
      "cell_type": "markdown",
      "metadata": {
        "id": "4pDJXfz3TgS7"
      },
      "source": [
        "9 - Quantas mulheres e quantos homems estavam à bordo, de acordo com o dataset?"
      ]
    },
    {
      "cell_type": "code",
      "source": [
        "# Agrupar valores por sexo, e mostrar contagem\n",
        "sex_group = tit.groupby('Sexo').agg({'Sexo': 'count'})\n",
        "sex_group.columns = ['Count']\n",
        "sex_group"
      ],
      "metadata": {
        "id": "vCAQLJAETvPA"
      },
      "execution_count": null,
      "outputs": []
    },
    {
      "cell_type": "markdown",
      "metadata": {
        "id": "o6lbuat3TgS7"
      },
      "source": [
        "10 - Quantos passageiros sobreviveram e quantos não sobreviveram?"
      ]
    },
    {
      "cell_type": "code",
      "source": [
        "# Agrupar valores por sobrevivência, e mostrar contagem\n",
        "sobr_group = tit.groupby('Sobreviveu').agg({'Sobreviveu': 'count'})\n",
        "sobr_group.columns = ['Count']\n",
        "sobr_group"
      ],
      "metadata": {
        "id": "3QHMnzbCTweD"
      },
      "execution_count": null,
      "outputs": []
    },
    {
      "cell_type": "markdown",
      "metadata": {
        "id": "TJr51qAsTgS8"
      },
      "source": [
        "11 - Quantas mulheres não sobreviveram?"
      ]
    },
    {
      "cell_type": "code",
      "source": [
        "# Imprimir quantidade de mulheres que faleceram.\n",
        "print(f\"{len(tit.loc[(tit['Sexo'] == 'Mulher') & (tit['Sobreviveu'] == 'Não')])} mulheres não sobreviveram.\")"
      ],
      "metadata": {
        "id": "3ODFPSasTx66"
      },
      "execution_count": null,
      "outputs": []
    },
    {
      "cell_type": "markdown",
      "metadata": {
        "id": "OLLm023rTgS8"
      },
      "source": [
        "12 - Proporcionalmente, sobreviveram mais homens ou mais mulheres? Cite as proporções."
      ]
    },
    {
      "cell_type": "code",
      "source": [
        "# Guardar quantidade de sobreviventes, separando por homens e mulheres\n",
        "homens_sobreviventes = len(tit.loc[(tit['Sexo'] == 'Homem') & (tit['Sobreviveu'] == 'Sim')])\n",
        "mulheres_sobreviventes = len(tit.loc[(tit['Sexo'] == 'Mulher') & (tit['Sobreviveu'] == 'Sim')])\n",
        "\n",
        "# Indicar qual teve mais sobreviventes e mostrar a proporção aproximada\n",
        "if homens_sobreviventes > mulheres_sobreviventes:\n",
        "    print(f\"Sobreviveram mais homens, na proporção aproximada de 1:{homens_sobreviventes // mulheres_sobreviventes}\")\n",
        "else:\n",
        "    print(f\"Sobreviveram mais mulheres, na proporção aproximada de 1:{mulheres_sobreviventes // homens_sobreviventes}\")"
      ],
      "metadata": {
        "id": "DaFvn87iTzDj"
      },
      "execution_count": null,
      "outputs": []
    },
    {
      "cell_type": "markdown",
      "metadata": {
        "id": "F5eLSZ_kTgS8"
      },
      "source": [
        "13 - Levando-se em consideração a idade dos passageiros, qual a idade e quantidade de pessoas com o maior número de mortos?"
      ]
    },
    {
      "cell_type": "code",
      "source": [
        "# Criar novo dataframe contendo apenas as mortes\n",
        "mortes_idades = tit.loc[tit['Sobreviveu'] == 'Não']\n",
        "\n",
        "# Agrupar o dataframe por idade\n",
        "mortes_idades = mortes_idades.groupby('Idade').agg({'Nome': 'count'})\n",
        "\n",
        "# resetar o index\n",
        "mortes_idades.reset_index(inplace=True)\n",
        "\n",
        "# renomear colunas\n",
        "mortes_idades.columns = ['Idade', 'Count']\n",
        "\n",
        "# ordenar valores em ordem decrescente\n",
        "mortes_idades.sort_values('Count', inplace=True, ascending=False)\n",
        "\n",
        "# resetar index novamente\n",
        "mortes_idades.reset_index(inplace=True, drop=True)\n",
        "\n",
        "# Imprimir qual foi a idade com mais mortes\n",
        "print(f\"Houve a maior quantidade de mortes entre pessoas de {mortes_idades.iloc[0,0]:.0f} anos,\"\n",
        "        f\" com {mortes_idades.iloc[0,1]} mortes.\")"
      ],
      "metadata": {
        "id": "cPsUUJZIT0L8"
      },
      "execution_count": null,
      "outputs": []
    },
    {
      "cell_type": "markdown",
      "metadata": {
        "id": "Q6IAIybZTgS8"
      },
      "source": [
        "14 - Qual a média de idade dos homens sobreviventes?"
      ]
    },
    {
      "cell_type": "code",
      "source": [
        "# Imprimir média de idade de homens sobreviventes\n",
        "print(\"Média da idade de homens sobreviventes:\"\n",
        "    f\" {tit.loc[(tit['Sexo'] == 'Homem') & (tit['Sobreviveu'] == 'Sim')]['Idade'].mean():.2f}\")"
      ],
      "metadata": {
        "id": "eLd5KhGoT2SE"
      },
      "execution_count": null,
      "outputs": []
    },
    {
      "cell_type": "markdown",
      "metadata": {
        "id": "xj6hJjULTgS8"
      },
      "source": [
        "15 - Levando-se em consideração passageiros prioritários (mulheres e crianças de até 15 anos independente do sexo) qual a proporção de sobreviventes por sexo?"
      ]
    },
    {
      "cell_type": "code",
      "source": [
        "# Criar dataframe apenas com sobreviventes que são prioritários\n",
        "sobr_prioritarios = tit.loc[((tit['Sexo'] == 'Mulher') | (tit['Idade'] <= 15)) & (tit['Sobreviveu'] == 'Sim')]\n",
        "\n",
        "# Calcular homens e mulheres sobreviventes\n",
        "homens_sobreviventes = len(sobr_prioritarios.loc[sobr_prioritarios['Sexo'] == 'Homem'])\n",
        "mulheres_sobreviventes = len(sobr_prioritarios.loc[sobr_prioritarios['Sexo'] == 'Mulher'])\n",
        "\n",
        "# Indicar qual grupo teve mais sobreviventes, e calcular proporção aproximada\n",
        "if homens_sobreviventes > mulheres_sobreviventes:\n",
        "    print(f\"Sobreviveram mais homens, na proporção aproximada de 1:{homens_sobreviventes // mulheres_sobreviventes}\")\n",
        "else:\n",
        "    print(f\"Sobreviveram mais mulheres, na proporção aproximada de 1:{mulheres_sobreviventes // homens_sobreviventes}\")"
      ],
      "metadata": {
        "id": "94IR8qAQT4St"
      },
      "execution_count": null,
      "outputs": []
    },
    {
      "cell_type": "markdown",
      "metadata": {
        "id": "UB_bRGwGTgS8"
      },
      "source": [
        "16 - Qual a quantidade de passageiros por classe?"
      ]
    },
    {
      "cell_type": "code",
      "source": [
        "# Agrupar quantidade de passageitos por classe\n",
        "class_sobr = tit.groupby('Classe').agg({'Classe': 'count'})\n",
        "class_sobr.columns = ['Count']\n",
        "class_sobr"
      ],
      "metadata": {
        "id": "U7ProdJ1T40D"
      },
      "execution_count": null,
      "outputs": []
    },
    {
      "cell_type": "markdown",
      "metadata": {
        "id": "2D4pHN2DTgS8"
      },
      "source": [
        "17 - Qual o percentual de sobreviventes por classe?"
      ]
    },
    {
      "cell_type": "code",
      "source": [
        "# Calcular total de passageiros sobreviventes\n",
        "total_sobreviventes = len(tit.loc[tit['Sobreviveu'] == 'Sim'])\n",
        "\n",
        "# Calcular total de passageiros sobreviventes por classe\n",
        "total_3_classe = len(tit.loc[(tit['Sobreviveu'] == 'Sim') & (tit['Classe'] == 3)])\n",
        "total_2_classe = len(tit.loc[(tit['Sobreviveu'] == 'Sim') & (tit['Classe'] == 2)])\n",
        "total_1_classe = len(tit.loc[(tit['Sobreviveu'] == 'Sim') & (tit['Classe'] == 1)])\n",
        "\n",
        "# Calcular porcentagem de sobreviventes por classe\n",
        "pct_3_classe = (total_3_classe * 100) / total_sobreviventes\n",
        "pct_2_classe = (total_2_classe * 100) / total_sobreviventes\n",
        "pct_1_classe = (total_1_classe * 100) / total_sobreviventes\n",
        "\n",
        "# imprimir porcentagem de sobreviventes por classe\n",
        "print(f\"{pct_3_classe:.2f}% dos sobreviventes estavam na 3° classe.\")\n",
        "print(f\"{pct_2_classe:.2f}% dos sobreviventes estavam na 2° classe.\")\n",
        "print(f\"{pct_1_classe:.2f}% dos sobreviventes estavam na 1° classe.\")"
      ],
      "metadata": {
        "id": "1FdQfnmCT6We"
      },
      "execution_count": null,
      "outputs": []
    },
    {
      "cell_type": "markdown",
      "metadata": {
        "id": "g_WXfCJ6TgS8"
      },
      "source": [
        "18 - Crie um dataframe que demonstre a quantidade de sobreviventes e não sobreviventes, agrupados por sexo e classe."
      ]
    },
    {
      "cell_type": "code",
      "source": [
        "# Criar dataframe novo, agrupando por sexo, classe e se sobreviveu ou não\n",
        "df_classes = tit.groupby(['Sexo', 'Classe', 'Sobreviveu']).agg({'Sobreviveu': 'count'})\n",
        "\n",
        "# Mostrar dataframe\n",
        "df_classes.columns = ['Count']\n",
        "df_classes"
      ],
      "metadata": {
        "id": "qJ6RiYRRT7So"
      },
      "execution_count": null,
      "outputs": []
    },
    {
      "cell_type": "markdown",
      "metadata": {
        "id": "MI1Q_xXKTgS9"
      },
      "source": [
        "19 - Dos homens com idade entre 24 e 30 anos quantos da classe 3 sobreviveram? Quantos da classe 2 não sobreviveram?"
      ]
    },
    {
      "cell_type": "code",
      "source": [
        "# Imprimir quantidade de homens entre 24 e 30 anos, na terceira classe, que sobreviveram\n",
        "homens_c3_sobr = len(tit.loc[(tit['Sexo'] == 'Homem') & (tit['Idade'].between(24, 30)) & \n",
        "                             (tit['Classe'] == 3) & (tit['Sobreviveu'] == 'Sim')])\n",
        "print(f\"Dos homens com idade entre 24 e 30 anos que estavam na terceira classe, {homens_c3_sobr} sobreviveram.\")\n",
        "\n",
        "# Imprimir quantidade de homens entre 24 e 30 anos, na segunda classe, que não sobreviveram\n",
        "homens_c2_mort = len(tit.loc[(tit['Sexo'] == 'Homem') & (tit['Idade'].between(24, 30)) &\n",
        "    (tit['Classe'] == 2) & (tit['Sobreviveu'] == 'Não')])\n",
        "print(f\"Dos homens com idade entre 24 e 30 anos que estavam na terceira classe, {homens_c2_mort} não sobreviveram.\")"
      ],
      "metadata": {
        "id": "KhmuwtA_T8ZN"
      },
      "execution_count": null,
      "outputs": []
    },
    {
      "cell_type": "markdown",
      "metadata": {
        "id": "OfWqSae2TgS9"
      },
      "source": [
        "20 - Calcule a probabilidade condicional de uma pessoa sobreviver, dado seu sexo e a classe em que estava viajando:\n",
        "- P(S= true | G=female,C=1)\n",
        "- P(S= true | G=female,C=2)\n",
        "- P(S= true | G=female,C=3)\n",
        "- P(S= true | G=male,C=1)\n",
        "- P(S= true | G=male,C=2)\n",
        "- P(S= true | G=male,C=3)"
      ]
    },
    {
      "cell_type": "code",
      "source": [
        "# Calcular mulheres sobreviventes por cada classe\n",
        "mulher_sobr_c1 = len(tit.loc[(tit['Sobreviveu'] == 'Sim') & (tit['Sexo'] == 'Mulher') & (tit['Classe'] == 1)])\n",
        "mulher_sobr_c2 = len(tit.loc[(tit['Sobreviveu'] == 'Sim') & (tit['Sexo'] == 'Mulher') & (tit['Classe'] == 2)])\n",
        "mulher_sobr_c3 = len(tit.loc[(tit['Sobreviveu'] == 'Sim') & (tit['Sexo'] == 'Mulher') & (tit['Classe'] == 3)])\n",
        "\n",
        "# Calcular homens sobreviventes por cada classe\n",
        "homem_sobr_c1 = len(tit.loc[(tit['Sobreviveu'] == 'Sim') & (tit['Sexo'] == 'Homem') & (tit['Classe'] == 1)])\n",
        "homem_sobr_c2 = len(tit.loc[(tit['Sobreviveu'] == 'Sim') & (tit['Sexo'] == 'Homem') & (tit['Classe'] == 2)])\n",
        "homem_sobr_c3 = len(tit.loc[(tit['Sobreviveu'] == 'Sim') & (tit['Sexo'] == 'Homem') & (tit['Classe'] == 3)])\n",
        "\n",
        "# Calcular total de mulheres por classe\n",
        "mulher_c1 = len(tit.loc[(tit['Sexo'] == 'Mulher') & (tit['Classe'] == 1)])\n",
        "mulher_c2 = len(tit.loc[(tit['Sexo'] == 'Mulher') & (tit['Classe'] == 2)])\n",
        "mulher_c3 = len(tit.loc[(tit['Sexo'] == 'Mulher') & (tit['Classe'] == 3)])\n",
        "\n",
        "# Calcular total de homens por classe\n",
        "homem_c1 = len(tit.loc[(tit['Sexo'] == 'Homem') & (tit['Classe'] == 1)])\n",
        "homem_c2 = len(tit.loc[(tit['Sexo'] == 'Homem') & (tit['Classe'] == 2)])\n",
        "homem_c3 = len(tit.loc[(tit['Sexo'] == 'Homem') & (tit['Classe'] == 3)])\n",
        "\n",
        "# Calcular probabilidade de sobrevivência por sexo e classe\n",
        "prob_mulher_c1 = (mulher_sobr_c1 / mulher_c1) * 100\n",
        "prob_mulher_c2 = (mulher_sobr_c2 / mulher_c2) * 100\n",
        "prob_mulher_c3 = (mulher_sobr_c3 / mulher_c3) * 100\n",
        "prob_homem_c1 = (homem_sobr_c1 / homem_c1) * 100\n",
        "prob_homem_c2 = (homem_sobr_c2 / homem_c2) * 100\n",
        "prob_homem_c3 = (homem_sobr_c3 / homem_c3) * 100\n",
        "\n",
        "# Criar lista de legendas, valores e cores para o gráfico\n",
        "x_labels= ['Mulher C1', 'Homem C1', 'Mulher C2', 'Homem C2', 'Mulher C3', 'Homem C3']\n",
        "heights = [prob_mulher_c1, prob_homem_c1, prob_mulher_c2, prob_homem_c2, prob_mulher_c3, prob_homem_c3]\n",
        "colors = ['red', 'blue', 'red', 'blue', 'red', 'blue']\n",
        "plt.figure(figsize=(7, 4), dpi=150)\n",
        "\n",
        "# Gerar gráfico e configurar legendas\n",
        "titlefont = {\n",
        "    'family': 'serif',\n",
        "    'size': 20,\n",
        "    'fontweight': 'bold'\n",
        "}\n",
        "labelfont = {\n",
        "    'family': 'serif',\n",
        "    'size': 15\n",
        "}\n",
        "plt.bar(x_labels, heights, color=colors)\n",
        "plt.xlabel(\"Tipo de Passageiro\", fontdict=labelfont)\n",
        "plt.ylabel(\"Probabilidade\", fontdict=labelfont)\n",
        "plt.title(\"Chance de Sobrevivência por tipo de Passageiro\", fontdict=titlefont)\n",
        "\n",
        "# Adicionar valores no gráfico\n",
        "for idx, _ in enumerate(x_labels):\n",
        "    plt.text(idx, heights[idx], f\"{heights[idx]:.2f}%\")\n",
        "\n",
        "# Mostrar gráfico\n",
        "plt.show()"
      ],
      "metadata": {
        "id": "oNT0peDdT92N"
      },
      "execution_count": null,
      "outputs": []
    }
  ],
  "metadata": {
    "kernelspec": {
      "display_name": "Python 3",
      "language": "python",
      "name": "python3"
    },
    "language_info": {
      "codemirror_mode": {
        "name": "ipython",
        "version": 3
      },
      "file_extension": ".py",
      "mimetype": "text/x-python",
      "name": "python",
      "nbconvert_exporter": "python",
      "pygments_lexer": "ipython3",
      "version": "3.7.3"
    },
    "colab": {
      "provenance": [],
      "collapsed_sections": []
    }
  },
  "nbformat": 4,
  "nbformat_minor": 0
}
